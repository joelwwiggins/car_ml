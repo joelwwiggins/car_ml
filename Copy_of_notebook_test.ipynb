{
  "cells": [
    {
      "cell_type": "markdown",
      "metadata": {
        "colab_type": "text",
        "id": "view-in-github"
      },
      "source": [
        "<a href=\"https://colab.research.google.com/github/joelwwiggins/car_ml/blob/main/Copy_of_notebook_test.ipynb\" target=\"_parent\"><img src=\"https://colab.research.google.com/assets/colab-badge.svg\" alt=\"Open In Colab\"/></a>"
      ]
    },
    {
      "cell_type": "code",
      "execution_count": 36,
      "metadata": {
        "id": "fzNmEGWXZ5O0"
      },
      "outputs": [],
      "source": [
        "import numpy as np\n",
        "import tensorflow as tf\n",
        "import pandas as pd"
      ]
    },
    {
      "cell_type": "code",
      "execution_count": 37,
      "metadata": {
        "id": "GIBtfTXGrS8t"
      },
      "outputs": [],
      "source": [
        "#import csv from path\n",
        "#drop first row and column\n",
        "df1 = pd.read_csv('CSVLog_20221218_084434.csv', skiprows=1)\n"
      ]
    },
    {
      "cell_type": "code",
      "execution_count": 38,
      "metadata": {
        "id": "EK3gTq6frS8u"
      },
      "outputs": [],
      "source": [
        "#drop first column\n",
        "df1_col=df1.iloc[:,1:]\n",
        "df=df1_col"
      ]
    },
    {
      "cell_type": "code",
      "execution_count": 39,
      "metadata": {
        "colab": {
          "base_uri": "https://localhost:8080/"
        },
        "id": "pKUYElJ-Z5O6",
        "outputId": "ee272003-ea58-41fc-e124-8d2778ccbbd8"
      },
      "outputs": [],
      "source": [
        "#convert to numpy array\n",
        "df_np=df.to_numpy()\n",
        "\n",
        "\n",
        "\n",
        "\n",
        "\n",
        "\n"
      ]
    },
    {
      "cell_type": "code",
      "execution_count": 54,
      "metadata": {},
      "outputs": [
        {
          "name": "stdout",
          "output_type": "stream",
          "text": [
            "Epoch 1/2\n",
            "2307/2307 [==============================] - 11s 5ms/step - loss: 0.8585 - val_loss: 0.7967\n",
            "Epoch 2/2\n",
            "2307/2307 [==============================] - 10s 5ms/step - loss: 0.8585 - val_loss: 0.7967\n"
          ]
        }
      ],
      "source": [
        "#train test split the data into the autoencoder input\n",
        "#create a a model with two 1dconv layers, callbacks, and a dense layer.\n",
        "#compile the model with adam optimizer and mse loss function\n",
        "#fit the model with the training data and 100 epochs\n",
        "#evaluate the model with the test data\n",
        "#predict the model with the test data\n",
        "#plot the predicted values against the actual values\n",
        "#plot the loss and accuracy of the model\n",
        "#save the model\n",
        "#import the necessary libraries\n",
        "\n",
        "import numpy as np\n",
        "import tensorflow as tf\n",
        "import pandas as pd\n",
        "import matplotlib.pyplot as plt\n",
        "from sklearn.model_selection import train_test_split\n",
        "from sklearn.preprocessing import StandardScaler\n",
        "from tensorflow.keras.models import Sequential\n",
        "from tensorflow.keras.layers import Dense, Conv1D, Flatten, Dropout, MaxPooling1D\n",
        "from tensorflow.keras.callbacks import EarlyStopping\n",
        "from tensorflow.keras.models import load_model\n",
        "\n",
        "#use df_np from previous cell\n",
        "#set scaler\n",
        "scaler = StandardScaler()\n",
        "#train test split the data for the autoencoder input\n",
        "X_train, X_test = train_test_split(df_np, test_size=0.2, random_state=42)\n",
        "#scale the data\n",
        "X_train = scaler.fit_transform(X_train)\n",
        "X_test = scaler.transform(X_test)\n",
        "\n",
        "#reshape the data for the autoencoder input\n",
        "X_train = X_train.reshape(X_train.shape[0], X_train.shape[1], 1)\n",
        "X_test = X_test.reshape(X_test.shape[0], X_test.shape[1], 1)\n",
        "\n",
        "#set the model\n",
        "model = Sequential()\n",
        "model.add(Conv1D(64, 2, activation='relu', input_shape=(X_train.shape[1], 1)))\n",
        "model.add(MaxPooling1D(pool_size=2))\n",
        "model.add(Conv1D(32, 2, activation='relu'))\n",
        "model.add(MaxPooling1D(pool_size=2))\n",
        "model.add(Flatten())\n",
        "model.add(Dense(16, activation='relu'))\n",
        "model.add(Dense(8, activation='relu'))\n",
        "model.add(Dense(4, activation='relu'))\n",
        "model.add(Dense(2, activation='relu'))\n",
        "model.add(Dense(1))\n",
        "\n",
        "#compile the model\n",
        "model.compile(optimizer='adam', loss='mse')\n",
        "\n",
        "#set early stopping\n",
        "early_stop = EarlyStopping(monitor='val_loss',patience=10)\n",
        "\n",
        "#fit the model\n",
        "model.fit(x=X_train,y=X_train,epochs=2, validation_data=(X_test,X_test), callbacks=[early_stop])\n",
        "\n",
        "#evaluate the model\n",
        "model.evaluate(X_test,X_test,verbose=0)\n",
        "\n",
        "#predict the model\n",
        "test_predictions = model.predict(X_test)\n",
        "\n",
        "\n",
        "\n",
        "#save the model\n",
        "model.save('autoencoder.h5')\n"
      ]
    },
    {
      "cell_type": "code",
      "execution_count": 53,
      "metadata": {},
      "outputs": [],
      "source": [
        "#reshape the test_predictions for the plot\n",
        "test_predictions1 = test_predictions.reshape(-1,1)\n",
        "# convert to dataframe\n",
        "test_predictionsdf = pd.DataFrame(test_predictions1)\n"
      ]
    },
    {
      "cell_type": "code",
      "execution_count": 35,
      "metadata": {},
      "outputs": [
        {
          "name": "stdout",
          "output_type": "stream",
          "text": [
            "Epoch 1/5\n",
            "1/1 [==============================] - 1s 1s/step - loss: 1.0530 - accuracy: 0.1415\n",
            "Epoch 2/5\n",
            "1/1 [==============================] - 0s 204ms/step - loss: 0.8810 - accuracy: 0.1415\n",
            "Epoch 3/5\n",
            "1/1 [==============================] - 0s 189ms/step - loss: 0.8622 - accuracy: 0.1415\n",
            "Epoch 4/5\n",
            "1/1 [==============================] - 0s 190ms/step - loss: 0.8594 - accuracy: 0.1415\n",
            "Epoch 5/5\n",
            "1/1 [==============================] - 0s 194ms/step - loss: 0.8588 - accuracy: 0.1415\n",
            "Model: \"sequential_13\"\n",
            "_________________________________________________________________\n",
            " Layer (type)                Output Shape              Param #   \n",
            "=================================================================\n",
            " conv1d_75 (Conv1D)          (None, 73794, 64)         13632     \n",
            "                                                                 \n",
            " max_pooling1d_75 (MaxPoolin  (None, 36897, 64)        0         \n",
            " g1D)                                                            \n",
            "                                                                 \n",
            " conv1d_76 (Conv1D)          (None, 36896, 32)         4128      \n",
            "                                                                 \n",
            " max_pooling1d_76 (MaxPoolin  (None, 18448, 32)        0         \n",
            " g1D)                                                            \n",
            "                                                                 \n",
            " conv1d_77 (Conv1D)          (None, 18447, 16)         1040      \n",
            "                                                                 \n",
            " max_pooling1d_77 (MaxPoolin  (None, 9223, 16)         0         \n",
            " g1D)                                                            \n",
            "                                                                 \n",
            " conv1d_78 (Conv1D)          (None, 9222, 8)           264       \n",
            "                                                                 \n",
            " max_pooling1d_78 (MaxPoolin  (None, 4611, 8)          0         \n",
            " g1D)                                                            \n",
            "                                                                 \n",
            " conv1d_79 (Conv1D)          (None, 4610, 4)           68        \n",
            "                                                                 \n",
            " max_pooling1d_79 (MaxPoolin  (None, 2305, 4)          0         \n",
            " g1D)                                                            \n",
            "                                                                 \n",
            " conv1d_80 (Conv1D)          (None, 2304, 2)           18        \n",
            "                                                                 \n",
            " max_pooling1d_80 (MaxPoolin  (None, 1152, 2)          0         \n",
            " g1D)                                                            \n",
            "                                                                 \n",
            " conv1d_81 (Conv1D)          (None, 1151, 1)           5         \n",
            "                                                                 \n",
            " max_pooling1d_81 (MaxPoolin  (None, 575, 1)           0         \n",
            " g1D)                                                            \n",
            "                                                                 \n",
            " flatten_12 (Flatten)        (None, 575)               0         \n",
            "                                                                 \n",
            " dense_36 (Dense)            (None, 100)               57600     \n",
            "                                                                 \n",
            " dense_37 (Dense)            (None, 10)                1010      \n",
            "                                                                 \n",
            " dense_38 (Dense)            (None, 1)                 11        \n",
            "                                                                 \n",
            "=================================================================\n",
            "Total params: 77,776\n",
            "Trainable params: 77,776\n",
            "Non-trainable params: 0\n",
            "_________________________________________________________________\n"
          ]
        }
      ],
      "source": [
        "\n",
        "\n",
        "\n",
        "\n",
        "\n",
        "#use a 2dconv model to predict the next value\n",
        "from keras.models import Sequential\n",
        "from keras.layers import Dense, Conv1D, Flatten, MaxPooling1D \n",
        "from keras.layers import Dropout\n",
        "from keras.layers import LSTM\n",
        "\n",
        "\n",
        "from keras.preprocessing import image\n",
        "from keras.models import Model\n",
        "from keras.layers import Input\n",
        "from keras.layers import Dense\n",
        "\n",
        "\n",
        "#convert to numpy array\n",
        "df_np=df.to_numpy()\n",
        "\n",
        "#train test split\n",
        "from sklearn.model_selection import train_test_split\n",
        "X_train, X_test = train_test_split(df_np, test_size=0.2, random_state=False)\n",
        "\n",
        "#normalize the x_train\n",
        "from sklearn.preprocessing import StandardScaler\n",
        "scaler = StandardScaler()\n",
        "X_train_scaled = scaler.fit_transform(X_train)\n",
        "\n",
        "#reshape the data for a 1dconv model\n",
        "\n",
        "model_shape = X_train_scaled.shape\n",
        "X_train_3d = X_train_scaled.reshape( -1, model_shape[0], model_shape[1])\n",
        "\n",
        "#resize the data for validation\n",
        "X_test_scaled = scaler.fit_transform(X_test)\n",
        "X_test_shape = X_test_scaled.shape\n",
        "X_test_3d = X_test_scaled.reshape( -1, X_test_shape[0], X_test_shape[1])\n",
        "\n",
        "#create a cnn model for outlier detection using 1dconv\n",
        "nn_model = tf.keras.models.Sequential()\n",
        "\n",
        "#add a 1dconv layer\n",
        "nn_model.add(tf.keras.layers.Conv1D(64, 2, activation='relu', input_shape=(model_shape[0], model_shape[1])))\n",
        "nn_model.add(tf.keras.layers.MaxPooling1D(2))\n",
        "nn_model.add(tf.keras.layers.Conv1D(32, 2, activation='relu'))\n",
        "nn_model.add(tf.keras.layers.MaxPooling1D(2))\n",
        "nn_model.add(tf.keras.layers.Conv1D(16, 2, activation='relu'))\n",
        "nn_model.add(tf.keras.layers.MaxPooling1D(2))\n",
        "nn_model.add(tf.keras.layers.Conv1D(8, 2, activation='relu'))\n",
        "nn_model.add(tf.keras.layers.MaxPooling1D(2))\n",
        "nn_model.add(tf.keras.layers.Conv1D(4, 2, activation='relu'))\n",
        "nn_model.add(tf.keras.layers.MaxPooling1D(2))\n",
        "nn_model.add(tf.keras.layers.Conv1D(2, 2, activation='relu'))\n",
        "nn_model.add(tf.keras.layers.MaxPooling1D(2))\n",
        "nn_model.add(tf.keras.layers.Conv1D(1, 2, activation='relu'))\n",
        "nn_model.add(tf.keras.layers.MaxPooling1D(2))\n",
        "\n",
        "\n",
        "\n",
        "\n",
        "\n",
        "\n",
        "nn_model.add(tf.keras.layers.Flatten())\n",
        "\n",
        "#add a dense layer\n",
        "\n",
        "nn_model.add(tf.keras.layers.Dense(100, activation='relu'))\n",
        "nn_model.add(tf.keras.layers.Dense(10, activation='relu'))\n",
        "nn_model.add(tf.keras.layers.Dense(1, activation='sigmoid'))\n",
        "\n",
        "#pad the X_test_3d to match the model shape\n",
        "X_test_3d = np.pad(X_test_3d, ((0,0),(0, model_shape[0]-X_test_shape[0]), (0,0)), 'constant')\n",
        "\n",
        "#compile the model\n",
        "nn_model.compile(optimizer='adam', loss='mean_squared_error', metrics=['accuracy'])\n",
        "\n",
        "#fit the model to prevent incompatiblity errors\n",
        "nn_model.fit(X_train_3d, X_train_3d, epochs=5)\n",
        "\n",
        "\n",
        "\n",
        "\n",
        "\n",
        "#predict the model\n",
        "nn_model.predict(X_test_3d)\n",
        "\n",
        "\n",
        "\n",
        "\n",
        "\n",
        "\n",
        "\n",
        "\n",
        "\n",
        "\n",
        "\n",
        "\n",
        "nn_model.summary()"
      ]
    },
    {
      "cell_type": "code",
      "execution_count": 19,
      "metadata": {
        "colab": {
          "base_uri": "https://localhost:8080/",
          "height": 130
        },
        "id": "Xw8c2Beft95l",
        "outputId": "7d7fec6c-1d7a-4a7f-84f6-408bbdf01926"
      },
      "outputs": [],
      "source": [
        "#save the model\n",
        "nn_model.save('model.h5')"
      ]
    },
    {
      "cell_type": "code",
      "execution_count": 25,
      "metadata": {
        "id": "_rWf0BfOZ5O8"
      },
      "outputs": [
        {
          "ename": "ValueError",
          "evalue": "in user code:\n\n    File \"c:\\Users\\joelw\\Anaconda3\\lib\\site-packages\\keras\\engine\\training.py\", line 1805, in predict_function  *\n        return step_function(self, iterator)\n    File \"c:\\Users\\joelw\\Anaconda3\\lib\\site-packages\\keras\\engine\\training.py\", line 1794, in step_function  **\n        outputs = model.distribute_strategy.run(run_step, args=(data,))\n    File \"c:\\Users\\joelw\\Anaconda3\\lib\\site-packages\\keras\\engine\\training.py\", line 1787, in run_step  **\n        outputs = model.predict_step(data)\n    File \"c:\\Users\\joelw\\Anaconda3\\lib\\site-packages\\keras\\engine\\training.py\", line 1755, in predict_step\n        return self(x, training=False)\n    File \"c:\\Users\\joelw\\Anaconda3\\lib\\site-packages\\keras\\utils\\traceback_utils.py\", line 67, in error_handler\n        raise e.with_traceback(filtered_tb) from None\n    File \"c:\\Users\\joelw\\Anaconda3\\lib\\site-packages\\keras\\engine\\input_spec.py\", line 264, in assert_input_compatibility\n        raise ValueError(f'Input {input_index} of layer \"{layer_name}\" is '\n\n    ValueError: Input 0 of layer \"sequential_5\" is incompatible with the layer: expected shape=(None, 73795, 106), found shape=(None, 18449, 106)\n",
          "output_type": "error",
          "traceback": [
            "\u001b[1;31m---------------------------------------------------------------------------\u001b[0m",
            "\u001b[1;31mValueError\u001b[0m                                Traceback (most recent call last)",
            "\u001b[1;32m<ipython-input-25-f218a0c511da>\u001b[0m in \u001b[0;36m<module>\u001b[1;34m\u001b[0m\n\u001b[0;32m     17\u001b[0m \u001b[1;33m\u001b[0m\u001b[0m\n\u001b[0;32m     18\u001b[0m \u001b[1;31m#predict the next value\u001b[0m\u001b[1;33m\u001b[0m\u001b[1;33m\u001b[0m\u001b[1;33m\u001b[0m\u001b[0m\n\u001b[1;32m---> 19\u001b[1;33m \u001b[0my_pred\u001b[0m \u001b[1;33m=\u001b[0m \u001b[0mmodel\u001b[0m\u001b[1;33m.\u001b[0m\u001b[0mpredict\u001b[0m\u001b[1;33m(\u001b[0m\u001b[0mX_test_3d\u001b[0m\u001b[1;33m)\u001b[0m\u001b[1;33m\u001b[0m\u001b[1;33m\u001b[0m\u001b[0m\n\u001b[0m\u001b[0;32m     20\u001b[0m \u001b[1;33m\u001b[0m\u001b[0m\n",
            "\u001b[1;32mc:\\Users\\joelw\\Anaconda3\\lib\\site-packages\\keras\\utils\\traceback_utils.py\u001b[0m in \u001b[0;36merror_handler\u001b[1;34m(*args, **kwargs)\u001b[0m\n\u001b[0;32m     65\u001b[0m     \u001b[1;32mexcept\u001b[0m \u001b[0mException\u001b[0m \u001b[1;32mas\u001b[0m \u001b[0me\u001b[0m\u001b[1;33m:\u001b[0m  \u001b[1;31m# pylint: disable=broad-except\u001b[0m\u001b[1;33m\u001b[0m\u001b[1;33m\u001b[0m\u001b[0m\n\u001b[0;32m     66\u001b[0m       \u001b[0mfiltered_tb\u001b[0m \u001b[1;33m=\u001b[0m \u001b[0m_process_traceback_frames\u001b[0m\u001b[1;33m(\u001b[0m\u001b[0me\u001b[0m\u001b[1;33m.\u001b[0m\u001b[0m__traceback__\u001b[0m\u001b[1;33m)\u001b[0m\u001b[1;33m\u001b[0m\u001b[1;33m\u001b[0m\u001b[0m\n\u001b[1;32m---> 67\u001b[1;33m       \u001b[1;32mraise\u001b[0m \u001b[0me\u001b[0m\u001b[1;33m.\u001b[0m\u001b[0mwith_traceback\u001b[0m\u001b[1;33m(\u001b[0m\u001b[0mfiltered_tb\u001b[0m\u001b[1;33m)\u001b[0m \u001b[1;32mfrom\u001b[0m \u001b[1;32mNone\u001b[0m\u001b[1;33m\u001b[0m\u001b[1;33m\u001b[0m\u001b[0m\n\u001b[0m\u001b[0;32m     68\u001b[0m     \u001b[1;32mfinally\u001b[0m\u001b[1;33m:\u001b[0m\u001b[1;33m\u001b[0m\u001b[1;33m\u001b[0m\u001b[0m\n\u001b[0;32m     69\u001b[0m       \u001b[1;32mdel\u001b[0m \u001b[0mfiltered_tb\u001b[0m\u001b[1;33m\u001b[0m\u001b[1;33m\u001b[0m\u001b[0m\n",
            "\u001b[1;32mc:\\Users\\joelw\\Anaconda3\\lib\\site-packages\\tensorflow\\python\\framework\\func_graph.py\u001b[0m in \u001b[0;36mautograph_handler\u001b[1;34m(*args, **kwargs)\u001b[0m\n\u001b[0;32m   1145\u001b[0m           \u001b[1;32mexcept\u001b[0m \u001b[0mException\u001b[0m \u001b[1;32mas\u001b[0m \u001b[0me\u001b[0m\u001b[1;33m:\u001b[0m  \u001b[1;31m# pylint:disable=broad-except\u001b[0m\u001b[1;33m\u001b[0m\u001b[1;33m\u001b[0m\u001b[0m\n\u001b[0;32m   1146\u001b[0m             \u001b[1;32mif\u001b[0m \u001b[0mhasattr\u001b[0m\u001b[1;33m(\u001b[0m\u001b[0me\u001b[0m\u001b[1;33m,\u001b[0m \u001b[1;34m\"ag_error_metadata\"\u001b[0m\u001b[1;33m)\u001b[0m\u001b[1;33m:\u001b[0m\u001b[1;33m\u001b[0m\u001b[1;33m\u001b[0m\u001b[0m\n\u001b[1;32m-> 1147\u001b[1;33m               \u001b[1;32mraise\u001b[0m \u001b[0me\u001b[0m\u001b[1;33m.\u001b[0m\u001b[0mag_error_metadata\u001b[0m\u001b[1;33m.\u001b[0m\u001b[0mto_exception\u001b[0m\u001b[1;33m(\u001b[0m\u001b[0me\u001b[0m\u001b[1;33m)\u001b[0m\u001b[1;33m\u001b[0m\u001b[1;33m\u001b[0m\u001b[0m\n\u001b[0m\u001b[0;32m   1148\u001b[0m             \u001b[1;32melse\u001b[0m\u001b[1;33m:\u001b[0m\u001b[1;33m\u001b[0m\u001b[1;33m\u001b[0m\u001b[0m\n\u001b[0;32m   1149\u001b[0m               \u001b[1;32mraise\u001b[0m\u001b[1;33m\u001b[0m\u001b[1;33m\u001b[0m\u001b[0m\n",
            "\u001b[1;31mValueError\u001b[0m: in user code:\n\n    File \"c:\\Users\\joelw\\Anaconda3\\lib\\site-packages\\keras\\engine\\training.py\", line 1805, in predict_function  *\n        return step_function(self, iterator)\n    File \"c:\\Users\\joelw\\Anaconda3\\lib\\site-packages\\keras\\engine\\training.py\", line 1794, in step_function  **\n        outputs = model.distribute_strategy.run(run_step, args=(data,))\n    File \"c:\\Users\\joelw\\Anaconda3\\lib\\site-packages\\keras\\engine\\training.py\", line 1787, in run_step  **\n        outputs = model.predict_step(data)\n    File \"c:\\Users\\joelw\\Anaconda3\\lib\\site-packages\\keras\\engine\\training.py\", line 1755, in predict_step\n        return self(x, training=False)\n    File \"c:\\Users\\joelw\\Anaconda3\\lib\\site-packages\\keras\\utils\\traceback_utils.py\", line 67, in error_handler\n        raise e.with_traceback(filtered_tb) from None\n    File \"c:\\Users\\joelw\\Anaconda3\\lib\\site-packages\\keras\\engine\\input_spec.py\", line 264, in assert_input_compatibility\n        raise ValueError(f'Input {input_index} of layer \"{layer_name}\" is '\n\n    ValueError: Input 0 of layer \"sequential_5\" is incompatible with the layer: expected shape=(None, 73795, 106), found shape=(None, 18449, 106)\n"
          ]
        }
      ],
      "source": [
        "import plotly.express as px\n",
        "import plotly.graph_objects as go\n",
        "from plotly.subplots import make_subplots\n",
        "import plotly.figure_factory as ff\n",
        "import plotly.io as pio\n",
        "pio.renderers.default = \"browser\"\n",
        "\n",
        "#load the model\n",
        "from keras.models import load_model\n",
        "\n",
        "model = load_model('model.h5')\n",
        "\n",
        "#predict the next value on the test data with less rows\n",
        "#reshape the data to get the expected input shape\n",
        "X_test_scaled = scaler.fit_transform(X_test)\n",
        "X_test_3d = X_test_scaled.reshape( -1, X_test_scaled.shape[0], X_test_scaled.shape[1])\n",
        "\n",
        "#predict the next value\n",
        "y_pred = model.predict(X_test_3d)\n",
        "\n"
      ]
    },
    {
      "cell_type": "code",
      "execution_count": 10,
      "metadata": {},
      "outputs": [
        {
          "ename": "ValueError",
          "evalue": "in user code:\n\n    File \"c:\\Users\\joelw\\Anaconda3\\lib\\site-packages\\keras\\engine\\training.py\", line 1805, in predict_function  *\n        return step_function(self, iterator)\n    File \"c:\\Users\\joelw\\Anaconda3\\lib\\site-packages\\keras\\engine\\training.py\", line 1794, in step_function  **\n        outputs = model.distribute_strategy.run(run_step, args=(data,))\n    File \"c:\\Users\\joelw\\Anaconda3\\lib\\site-packages\\keras\\engine\\training.py\", line 1787, in run_step  **\n        outputs = model.predict_step(data)\n    File \"c:\\Users\\joelw\\Anaconda3\\lib\\site-packages\\keras\\engine\\training.py\", line 1755, in predict_step\n        return self(x, training=False)\n    File \"c:\\Users\\joelw\\Anaconda3\\lib\\site-packages\\keras\\utils\\traceback_utils.py\", line 67, in error_handler\n        raise e.with_traceback(filtered_tb) from None\n    File \"c:\\Users\\joelw\\Anaconda3\\lib\\site-packages\\keras\\engine\\input_spec.py\", line 264, in assert_input_compatibility\n        raise ValueError(f'Input {input_index} of layer \"{layer_name}\" is '\n\n    ValueError: Input 0 of layer \"sequential\" is incompatible with the layer: expected shape=(None, 16500, 106), found shape=(None, 106)\n",
          "output_type": "error",
          "traceback": [
            "\u001b[1;31m---------------------------------------------------------------------------\u001b[0m",
            "\u001b[1;31mValueError\u001b[0m                                Traceback (most recent call last)",
            "\u001b[1;32m<ipython-input-10-03052a6af7ae>\u001b[0m in \u001b[0;36m<module>\u001b[1;34m\u001b[0m\n\u001b[0;32m      1\u001b[0m \u001b[1;31m#clean outliers from df and retrain\u001b[0m\u001b[1;33m\u001b[0m\u001b[1;33m\u001b[0m\u001b[1;33m\u001b[0m\u001b[0m\n\u001b[1;32m----> 2\u001b[1;33m \u001b[0mdf_loss\u001b[0m\u001b[1;33m=\u001b[0m \u001b[0mnn_model\u001b[0m\u001b[1;33m.\u001b[0m\u001b[0mpredict\u001b[0m\u001b[1;33m(\u001b[0m\u001b[0mdf\u001b[0m\u001b[1;33m)\u001b[0m\u001b[1;33m\u001b[0m\u001b[1;33m\u001b[0m\u001b[0m\n\u001b[0m\u001b[0;32m      3\u001b[0m \u001b[1;33m\u001b[0m\u001b[0m\n\u001b[0;32m      4\u001b[0m \u001b[1;31m#inverse transform df_loss\u001b[0m\u001b[1;33m\u001b[0m\u001b[1;33m\u001b[0m\u001b[1;33m\u001b[0m\u001b[0m\n\u001b[0;32m      5\u001b[0m \u001b[0mdf_loss_inv\u001b[0m \u001b[1;33m=\u001b[0m \u001b[0mscaler\u001b[0m\u001b[1;33m.\u001b[0m\u001b[0minverse_transform\u001b[0m\u001b[1;33m(\u001b[0m\u001b[0mdf_loss\u001b[0m\u001b[1;33m)\u001b[0m\u001b[1;33m\u001b[0m\u001b[1;33m\u001b[0m\u001b[0m\n",
            "\u001b[1;32mc:\\Users\\joelw\\Anaconda3\\lib\\site-packages\\keras\\utils\\traceback_utils.py\u001b[0m in \u001b[0;36merror_handler\u001b[1;34m(*args, **kwargs)\u001b[0m\n\u001b[0;32m     65\u001b[0m     \u001b[1;32mexcept\u001b[0m \u001b[0mException\u001b[0m \u001b[1;32mas\u001b[0m \u001b[0me\u001b[0m\u001b[1;33m:\u001b[0m  \u001b[1;31m# pylint: disable=broad-except\u001b[0m\u001b[1;33m\u001b[0m\u001b[1;33m\u001b[0m\u001b[0m\n\u001b[0;32m     66\u001b[0m       \u001b[0mfiltered_tb\u001b[0m \u001b[1;33m=\u001b[0m \u001b[0m_process_traceback_frames\u001b[0m\u001b[1;33m(\u001b[0m\u001b[0me\u001b[0m\u001b[1;33m.\u001b[0m\u001b[0m__traceback__\u001b[0m\u001b[1;33m)\u001b[0m\u001b[1;33m\u001b[0m\u001b[1;33m\u001b[0m\u001b[0m\n\u001b[1;32m---> 67\u001b[1;33m       \u001b[1;32mraise\u001b[0m \u001b[0me\u001b[0m\u001b[1;33m.\u001b[0m\u001b[0mwith_traceback\u001b[0m\u001b[1;33m(\u001b[0m\u001b[0mfiltered_tb\u001b[0m\u001b[1;33m)\u001b[0m \u001b[1;32mfrom\u001b[0m \u001b[1;32mNone\u001b[0m\u001b[1;33m\u001b[0m\u001b[1;33m\u001b[0m\u001b[0m\n\u001b[0m\u001b[0;32m     68\u001b[0m     \u001b[1;32mfinally\u001b[0m\u001b[1;33m:\u001b[0m\u001b[1;33m\u001b[0m\u001b[1;33m\u001b[0m\u001b[0m\n\u001b[0;32m     69\u001b[0m       \u001b[1;32mdel\u001b[0m \u001b[0mfiltered_tb\u001b[0m\u001b[1;33m\u001b[0m\u001b[1;33m\u001b[0m\u001b[0m\n",
            "\u001b[1;32mc:\\Users\\joelw\\Anaconda3\\lib\\site-packages\\tensorflow\\python\\framework\\func_graph.py\u001b[0m in \u001b[0;36mautograph_handler\u001b[1;34m(*args, **kwargs)\u001b[0m\n\u001b[0;32m   1145\u001b[0m           \u001b[1;32mexcept\u001b[0m \u001b[0mException\u001b[0m \u001b[1;32mas\u001b[0m \u001b[0me\u001b[0m\u001b[1;33m:\u001b[0m  \u001b[1;31m# pylint:disable=broad-except\u001b[0m\u001b[1;33m\u001b[0m\u001b[1;33m\u001b[0m\u001b[0m\n\u001b[0;32m   1146\u001b[0m             \u001b[1;32mif\u001b[0m \u001b[0mhasattr\u001b[0m\u001b[1;33m(\u001b[0m\u001b[0me\u001b[0m\u001b[1;33m,\u001b[0m \u001b[1;34m\"ag_error_metadata\"\u001b[0m\u001b[1;33m)\u001b[0m\u001b[1;33m:\u001b[0m\u001b[1;33m\u001b[0m\u001b[1;33m\u001b[0m\u001b[0m\n\u001b[1;32m-> 1147\u001b[1;33m               \u001b[1;32mraise\u001b[0m \u001b[0me\u001b[0m\u001b[1;33m.\u001b[0m\u001b[0mag_error_metadata\u001b[0m\u001b[1;33m.\u001b[0m\u001b[0mto_exception\u001b[0m\u001b[1;33m(\u001b[0m\u001b[0me\u001b[0m\u001b[1;33m)\u001b[0m\u001b[1;33m\u001b[0m\u001b[1;33m\u001b[0m\u001b[0m\n\u001b[0m\u001b[0;32m   1148\u001b[0m             \u001b[1;32melse\u001b[0m\u001b[1;33m:\u001b[0m\u001b[1;33m\u001b[0m\u001b[1;33m\u001b[0m\u001b[0m\n\u001b[0;32m   1149\u001b[0m               \u001b[1;32mraise\u001b[0m\u001b[1;33m\u001b[0m\u001b[1;33m\u001b[0m\u001b[0m\n",
            "\u001b[1;31mValueError\u001b[0m: in user code:\n\n    File \"c:\\Users\\joelw\\Anaconda3\\lib\\site-packages\\keras\\engine\\training.py\", line 1805, in predict_function  *\n        return step_function(self, iterator)\n    File \"c:\\Users\\joelw\\Anaconda3\\lib\\site-packages\\keras\\engine\\training.py\", line 1794, in step_function  **\n        outputs = model.distribute_strategy.run(run_step, args=(data,))\n    File \"c:\\Users\\joelw\\Anaconda3\\lib\\site-packages\\keras\\engine\\training.py\", line 1787, in run_step  **\n        outputs = model.predict_step(data)\n    File \"c:\\Users\\joelw\\Anaconda3\\lib\\site-packages\\keras\\engine\\training.py\", line 1755, in predict_step\n        return self(x, training=False)\n    File \"c:\\Users\\joelw\\Anaconda3\\lib\\site-packages\\keras\\utils\\traceback_utils.py\", line 67, in error_handler\n        raise e.with_traceback(filtered_tb) from None\n    File \"c:\\Users\\joelw\\Anaconda3\\lib\\site-packages\\keras\\engine\\input_spec.py\", line 264, in assert_input_compatibility\n        raise ValueError(f'Input {input_index} of layer \"{layer_name}\" is '\n\n    ValueError: Input 0 of layer \"sequential\" is incompatible with the layer: expected shape=(None, 16500, 106), found shape=(None, 106)\n"
          ]
        }
      ],
      "source": [
        "#clean outliers from df and retrain\n",
        "df_loss= nn_model.predict(df)\n",
        "\n",
        "#inverse transform df_loss\n",
        "df_loss_inv = scaler.inverse_transform(df_loss)\n",
        "\n",
        "inv_scaled_loss=tf.keras.losses.mae(df_loss_inv, df)\n",
        "\n",
        "#add a column to df with the loss\n",
        "df['loss']=inv_scaled_loss\n",
        "\n",
        "#trend the loss\n",
        "fig = px.line(df, x=df.index, y='loss')\n",
        "fig.show()\n",
        "\n",
        "\n",
        "\n",
        "\n"
      ]
    },
    {
      "cell_type": "code",
      "execution_count": null,
      "metadata": {},
      "outputs": [],
      "source": [
        "#clean outliers from df and retrain\n",
        "df_loss= nn_model.predict(df_duplicate)\n",
        "\n",
        "#inverse transform df_loss\n",
        "df_loss_inv = scaler.inverse_transform(df_loss)\n",
        "\n",
        "inv_scaled_loss=tf.keras.losses.mae(df_loss_inv, df_duplicate)\n",
        "\n",
        "#add a column to df with the loss\n",
        "\n",
        "df_duplicate['loss']=inv_scaled_loss\n",
        "\n",
        "\n",
        "\n",
        "\n",
        "\n",
        "#trend the loss\n",
        "fig = px.line(df_duplicate, x=df_duplicate.index, y='loss')\n",
        "fig.show()\n",
        "\n"
      ]
    }
  ],
  "metadata": {
    "accelerator": "GPU",
    "colab": {
      "include_colab_link": true,
      "provenance": []
    },
    "gpuClass": "standard",
    "kernelspec": {
      "display_name": "Python 3.7.1 ('base')",
      "language": "python",
      "name": "python3"
    },
    "language_info": {
      "codemirror_mode": {
        "name": "ipython",
        "version": 3
      },
      "file_extension": ".py",
      "mimetype": "text/x-python",
      "name": "python",
      "nbconvert_exporter": "python",
      "pygments_lexer": "ipython3",
      "version": "3.7.1"
    },
    "orig_nbformat": 4,
    "vscode": {
      "interpreter": {
        "hash": "c26471ef29eb750fa60115ee8cacc7117eebb5597498567f7800c5a417def78c"
      }
    }
  },
  "nbformat": 4,
  "nbformat_minor": 0
}
