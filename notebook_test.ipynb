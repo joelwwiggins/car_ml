{
 "cells": [
  {
   "cell_type": "code",
   "execution_count": 41,
   "metadata": {},
   "outputs": [],
   "source": [
    "#create a function to pull in data from dropbox \n",
    "#import all necessary libraries\n",
    "\n",
    "import pandas as pd\n",
    "import numpy as np\n",
    "from dotenv import load_dotenv\n",
    "from dotenv import find_dotenv\n",
    "import os\n",
    "from pathlib import Path\n",
    "import requests\n",
    "\n",
    "import pathlib\n",
    "import pandas as pd\n",
    "import dropbox\n",
    "from dropbox.exceptions import AuthError\n",
    "\n"
   ]
  },
  {
   "cell_type": "code",
   "execution_count": 21,
   "metadata": {},
   "outputs": [],
   "source": [
    "#get .env variables\n",
    "\n",
    "load_dotenv()\n",
    "\n",
    "\n",
    "#set up the path to the .env file\n",
    "env_path = Path('.') / '.env'\n",
    "load_dotenv(dotenv_path=env_path)\n",
    "\n",
    "#get api token from .env file\n",
    "link = os.getenv(\"api_box\")\n",
    "key= os.getenv(\"ak\")\n",
    "sec=os.getenv(\"as\")"
   ]
  },
  {
   "cell_type": "code",
   "execution_count": 66,
   "metadata": {},
   "outputs": [],
   "source": [
    "#set up dropbox\n",
    "dbx = dropbox.Dropbox(key)\n",
    "\n",
    "#set up the path to the file in dropbox\n",
    "path = '/test.csv'\n"
   ]
  },
  {
   "cell_type": "code",
   "execution_count": 67,
   "metadata": {},
   "outputs": [],
   "source": [
    "#define a function using oauth2 to authenticate with dropbox\n",
    "def dropbox_list_files(path):\n",
    "    \"\"\"Return a Pandas dataframe of files in a given Dropbox folder path in the Apps directory.\n",
    "    \"\"\"\n",
    "\n",
    "    dbx = dropbox_connect()\n",
    "\n",
    "    try:\n",
    "        files = dbx.files_list_folder(path).entries\n",
    "        files_list = []\n",
    "        for file in files:\n",
    "            if isinstance(file, dropbox.files.FileMetadata):\n",
    "                metadata = {\n",
    "                    'name': file.name,\n",
    "                    'path_display': file.path_display,\n",
    "                    'client_modified': file.client_modified,\n",
    "                    'server_modified': file.server_modified\n",
    "                }\n",
    "                files_list.append(metadata)\n",
    "\n",
    "        df = pd.DataFrame.from_records(files_list)\n",
    "        return df.sort_values(by='server_modified', ascending=False)\n",
    "\n",
    "    except Exception as e:\n",
    "        print('Error getting list of files from Dropbox: ' + str(e))\n",
    "\n"
   ]
  },
  {
   "cell_type": "code",
   "execution_count": 68,
   "metadata": {},
   "outputs": [
    {
     "name": "stderr",
     "output_type": "stream",
     "text": [
      "Unable to refresh access token without                 refresh token and app key\n"
     ]
    },
    {
     "name": "stdout",
     "output_type": "stream",
     "text": [
      "Error getting list of files from Dropbox: AuthError('9666394b88634c53b68381cc3860308b', AuthError('expired_access_token', None))\n"
     ]
    }
   ],
   "source": [
    "dropbox_list_files('/Apps/OBDLink/CsvLogs/WVGEF9BP9GD001746')"
   ]
  },
  {
   "cell_type": "code",
   "execution_count": 34,
   "metadata": {},
   "outputs": [
    {
     "name": "stderr",
     "output_type": "stream",
     "text": [
      "Unable to refresh access token without                 refresh token and app key\n"
     ]
    },
    {
     "ename": "AuthError",
     "evalue": "AuthError('5e16039c8f9f4501925ac7254cc24709', AuthError('expired_access_token', None))",
     "output_type": "error",
     "traceback": [
      "\u001b[1;31m---------------------------------------------------------------------------\u001b[0m",
      "\u001b[1;31mAuthError\u001b[0m                                 Traceback (most recent call last)",
      "Cell \u001b[1;32mIn[34], line 3\u001b[0m\n\u001b[0;32m      1\u001b[0m \u001b[39m#verify dropbox connection works\u001b[39;00m\n\u001b[1;32m----> 3\u001b[0m dbx_link\u001b[39m.\u001b[39;49musers_get_current_account()\n",
      "File \u001b[1;32mc:\\Users\\joelw\\AppData\\Local\\Programs\\Python\\Python311\\Lib\\site-packages\\dropbox\\base.py:5866\u001b[0m, in \u001b[0;36mDropboxBase.users_get_current_account\u001b[1;34m(self)\u001b[0m\n\u001b[0;32m   5857\u001b[0m \u001b[39m\"\"\"\u001b[39;00m\n\u001b[0;32m   5858\u001b[0m \u001b[39mGet information about the current user's account.\u001b[39;00m\n\u001b[0;32m   5859\u001b[0m \n\u001b[1;32m   (...)\u001b[0m\n\u001b[0;32m   5863\u001b[0m \u001b[39m:rtype: :class:`dropbox.users.FullAccount`\u001b[39;00m\n\u001b[0;32m   5864\u001b[0m \u001b[39m\"\"\"\u001b[39;00m\n\u001b[0;32m   5865\u001b[0m arg \u001b[39m=\u001b[39m \u001b[39mNone\u001b[39;00m\n\u001b[1;32m-> 5866\u001b[0m r \u001b[39m=\u001b[39m \u001b[39mself\u001b[39;49m\u001b[39m.\u001b[39;49mrequest(\n\u001b[0;32m   5867\u001b[0m     users\u001b[39m.\u001b[39;49mget_current_account,\n\u001b[0;32m   5868\u001b[0m     \u001b[39m'\u001b[39;49m\u001b[39musers\u001b[39;49m\u001b[39m'\u001b[39;49m,\n\u001b[0;32m   5869\u001b[0m     arg,\n\u001b[0;32m   5870\u001b[0m     \u001b[39mNone\u001b[39;49;00m,\n\u001b[0;32m   5871\u001b[0m )\n\u001b[0;32m   5872\u001b[0m \u001b[39mreturn\u001b[39;00m r\n",
      "File \u001b[1;32mc:\\Users\\joelw\\AppData\\Local\\Programs\\Python\\Python311\\Lib\\site-packages\\dropbox\\dropbox_client.py:326\u001b[0m, in \u001b[0;36m_DropboxTransport.request\u001b[1;34m(self, route, namespace, request_arg, request_binary, timeout)\u001b[0m\n\u001b[0;32m    315\u001b[0m \u001b[39mif\u001b[39;00m (timeout \u001b[39mis\u001b[39;00m \u001b[39mNone\u001b[39;00m \u001b[39mand\u001b[39;00m\n\u001b[0;32m    316\u001b[0m         route \u001b[39m==\u001b[39m files\u001b[39m.\u001b[39mlist_folder_longpoll):\n\u001b[0;32m    317\u001b[0m     \u001b[39m# The client normally sends a timeout value to the\u001b[39;00m\n\u001b[1;32m   (...)\u001b[0m\n\u001b[0;32m    322\u001b[0m     \u001b[39m# due to a shorter socket timeout.\u001b[39;00m\n\u001b[0;32m    323\u001b[0m     \u001b[39m# NB: This is done here because base.py is auto-generated\u001b[39;00m\n\u001b[0;32m    324\u001b[0m     timeout \u001b[39m=\u001b[39m request_arg\u001b[39m.\u001b[39mtimeout \u001b[39m+\u001b[39m \u001b[39m90\u001b[39m\n\u001b[1;32m--> 326\u001b[0m res \u001b[39m=\u001b[39m \u001b[39mself\u001b[39;49m\u001b[39m.\u001b[39;49mrequest_json_string_with_retry(host,\n\u001b[0;32m    327\u001b[0m                                           route_name,\n\u001b[0;32m    328\u001b[0m                                           route_style,\n\u001b[0;32m    329\u001b[0m                                           serialized_arg,\n\u001b[0;32m    330\u001b[0m                                           auth_type,\n\u001b[0;32m    331\u001b[0m                                           request_binary,\n\u001b[0;32m    332\u001b[0m                                           timeout\u001b[39m=\u001b[39;49mtimeout)\n\u001b[0;32m    333\u001b[0m decoded_obj_result \u001b[39m=\u001b[39m json\u001b[39m.\u001b[39mloads(res\u001b[39m.\u001b[39mobj_result)\n\u001b[0;32m    334\u001b[0m \u001b[39mif\u001b[39;00m \u001b[39misinstance\u001b[39m(res, RouteResult):\n",
      "File \u001b[1;32mc:\\Users\\joelw\\AppData\\Local\\Programs\\Python\\Python311\\Lib\\site-packages\\dropbox\\dropbox_client.py:476\u001b[0m, in \u001b[0;36m_DropboxTransport.request_json_string_with_retry\u001b[1;34m(self, host, route_name, route_style, request_json_arg, auth_type, request_binary, timeout)\u001b[0m\n\u001b[0;32m    474\u001b[0m \u001b[39mself\u001b[39m\u001b[39m.\u001b[39m_logger\u001b[39m.\u001b[39minfo(\u001b[39m'\u001b[39m\u001b[39mRequest to \u001b[39m\u001b[39m%s\u001b[39;00m\u001b[39m'\u001b[39m, route_name)\n\u001b[0;32m    475\u001b[0m \u001b[39mtry\u001b[39;00m:\n\u001b[1;32m--> 476\u001b[0m     \u001b[39mreturn\u001b[39;00m \u001b[39mself\u001b[39;49m\u001b[39m.\u001b[39;49mrequest_json_string(host,\n\u001b[0;32m    477\u001b[0m                                     route_name,\n\u001b[0;32m    478\u001b[0m                                     route_style,\n\u001b[0;32m    479\u001b[0m                                     request_json_arg,\n\u001b[0;32m    480\u001b[0m                                     auth_type,\n\u001b[0;32m    481\u001b[0m                                     request_binary,\n\u001b[0;32m    482\u001b[0m                                     timeout\u001b[39m=\u001b[39;49mtimeout)\n\u001b[0;32m    483\u001b[0m \u001b[39mexcept\u001b[39;00m AuthError \u001b[39mas\u001b[39;00m e:\n\u001b[0;32m    484\u001b[0m     \u001b[39mif\u001b[39;00m e\u001b[39m.\u001b[39merror \u001b[39mand\u001b[39;00m e\u001b[39m.\u001b[39merror\u001b[39m.\u001b[39mis_expired_access_token():\n",
      "File \u001b[1;32mc:\\Users\\joelw\\AppData\\Local\\Programs\\Python\\Python311\\Lib\\site-packages\\dropbox\\dropbox_client.py:596\u001b[0m, in \u001b[0;36m_DropboxTransport.request_json_string\u001b[1;34m(self, host, func_name, route_style, request_json_arg, auth_type, request_binary, timeout)\u001b[0m\n\u001b[0;32m    587\u001b[0m     timeout \u001b[39m=\u001b[39m \u001b[39mself\u001b[39m\u001b[39m.\u001b[39m_timeout\n\u001b[0;32m    589\u001b[0m r \u001b[39m=\u001b[39m \u001b[39mself\u001b[39m\u001b[39m.\u001b[39m_session\u001b[39m.\u001b[39mpost(url,\n\u001b[0;32m    590\u001b[0m                        headers\u001b[39m=\u001b[39mheaders,\n\u001b[0;32m    591\u001b[0m                        data\u001b[39m=\u001b[39mbody,\n\u001b[1;32m   (...)\u001b[0m\n\u001b[0;32m    594\u001b[0m                        timeout\u001b[39m=\u001b[39mtimeout,\n\u001b[0;32m    595\u001b[0m                        )\n\u001b[1;32m--> 596\u001b[0m \u001b[39mself\u001b[39;49m\u001b[39m.\u001b[39;49mraise_dropbox_error_for_resp(r)\n\u001b[0;32m    597\u001b[0m request_id \u001b[39m=\u001b[39m r\u001b[39m.\u001b[39mheaders\u001b[39m.\u001b[39mget(\u001b[39m'\u001b[39m\u001b[39mx-dropbox-request-id\u001b[39m\u001b[39m'\u001b[39m)\n\u001b[0;32m    598\u001b[0m \u001b[39mif\u001b[39;00m r\u001b[39m.\u001b[39mstatus_code \u001b[39min\u001b[39;00m (\u001b[39m403\u001b[39m, \u001b[39m404\u001b[39m, \u001b[39m409\u001b[39m):\n",
      "File \u001b[1;32mc:\\Users\\joelw\\AppData\\Local\\Programs\\Python\\Python311\\Lib\\site-packages\\dropbox\\dropbox_client.py:639\u001b[0m, in \u001b[0;36m_DropboxTransport.raise_dropbox_error_for_resp\u001b[1;34m(self, res)\u001b[0m\n\u001b[0;32m    634\u001b[0m     \u001b[39massert\u001b[39;00m res\u001b[39m.\u001b[39mheaders\u001b[39m.\u001b[39mget(\u001b[39m'\u001b[39m\u001b[39mcontent-type\u001b[39m\u001b[39m'\u001b[39m) \u001b[39m==\u001b[39m \u001b[39m'\u001b[39m\u001b[39mapplication/json\u001b[39m\u001b[39m'\u001b[39m, (\n\u001b[0;32m    635\u001b[0m         \u001b[39m'\u001b[39m\u001b[39mExpected content-type to be application/json, got \u001b[39m\u001b[39m%r\u001b[39;00m\u001b[39m'\u001b[39m \u001b[39m%\u001b[39m\n\u001b[0;32m    636\u001b[0m         res\u001b[39m.\u001b[39mheaders\u001b[39m.\u001b[39mget(\u001b[39m'\u001b[39m\u001b[39mcontent-type\u001b[39m\u001b[39m'\u001b[39m))\n\u001b[0;32m    637\u001b[0m     err \u001b[39m=\u001b[39m stone_serializers\u001b[39m.\u001b[39mjson_compat_obj_decode(\n\u001b[0;32m    638\u001b[0m         AuthError_validator, res\u001b[39m.\u001b[39mjson()[\u001b[39m'\u001b[39m\u001b[39merror\u001b[39m\u001b[39m'\u001b[39m])\n\u001b[1;32m--> 639\u001b[0m     \u001b[39mraise\u001b[39;00m AuthError(request_id, err)\n\u001b[0;32m    640\u001b[0m \u001b[39melif\u001b[39;00m res\u001b[39m.\u001b[39mstatus_code \u001b[39m==\u001b[39m HTTP_STATUS_INVALID_PATH_ROOT:\n\u001b[0;32m    641\u001b[0m     err \u001b[39m=\u001b[39m stone_serializers\u001b[39m.\u001b[39mjson_compat_obj_decode(\n\u001b[0;32m    642\u001b[0m         PathRootError_validator, res\u001b[39m.\u001b[39mjson()[\u001b[39m'\u001b[39m\u001b[39merror\u001b[39m\u001b[39m'\u001b[39m])\n",
      "\u001b[1;31mAuthError\u001b[0m: AuthError('5e16039c8f9f4501925ac7254cc24709', AuthError('expired_access_token', None))"
     ]
    }
   ],
   "source": [
    "#verify dropbox connection works\n",
    "\n",
    "dbx_link.users_get_current_account()\n",
    "\n",
    "\n",
    "\n"
   ]
  },
  {
   "cell_type": "code",
   "execution_count": 4,
   "metadata": {},
   "outputs": [],
   "source": [
    "'/Apps/OBDLink/CsvLogs/WVGEF9BP9GD001746'\n"
   ]
  },
  {
   "cell_type": "code",
   "execution_count": 131,
   "metadata": {},
   "outputs": [],
   "source": [
    "#import csv from path\n",
    "#drop first row and column\n",
    "df1 = pd.read_csv('CSVLog_20221130_091051.csv', skiprows=1)\n"
   ]
  },
  {
   "cell_type": "code",
   "execution_count": 133,
   "metadata": {},
   "outputs": [],
   "source": [
    "#drop first column\n",
    "df1_col=df1.iloc[:,1:]\n",
    "df=df1_col"
   ]
  },
  {
   "cell_type": "code",
   "execution_count": 134,
   "metadata": {},
   "outputs": [
    {
     "ename": "ModuleNotFoundError",
     "evalue": "No module named 'tensorflow'",
     "output_type": "error",
     "traceback": [
      "\u001b[1;31m---------------------------------------------------------------------------\u001b[0m",
      "\u001b[1;31mModuleNotFoundError\u001b[0m                       Traceback (most recent call last)",
      "Cell \u001b[1;32mIn[134], line 16\u001b[0m\n\u001b[0;32m     13\u001b[0m X_test \u001b[39m=\u001b[39m X_test\u001b[39m.\u001b[39mvalues\u001b[39m.\u001b[39mreshape(X_test\u001b[39m.\u001b[39mshape[\u001b[39m0\u001b[39m], X_test\u001b[39m.\u001b[39mshape[\u001b[39m1\u001b[39m], \u001b[39m1\u001b[39m)\n\u001b[0;32m     15\u001b[0m \u001b[39m#build the model\u001b[39;00m\n\u001b[1;32m---> 16\u001b[0m \u001b[39mfrom\u001b[39;00m \u001b[39mkeras\u001b[39;00m\u001b[39m.\u001b[39;00m\u001b[39mmodels\u001b[39;00m \u001b[39mimport\u001b[39;00m Sequential\n\u001b[0;32m     17\u001b[0m \u001b[39mfrom\u001b[39;00m \u001b[39mkeras\u001b[39;00m\u001b[39m.\u001b[39;00m\u001b[39mlayers\u001b[39;00m \u001b[39mimport\u001b[39;00m Dense, LSTM, Dropout, Conv1D, MaxPooling1D, Flatten\n\u001b[0;32m     18\u001b[0m \u001b[39mfrom\u001b[39;00m \u001b[39mkeras\u001b[39;00m\u001b[39m.\u001b[39;00m\u001b[39mcallbacks\u001b[39;00m \u001b[39mimport\u001b[39;00m EarlyStopping\n",
      "File \u001b[1;32mc:\\Users\\joelw\\AppData\\Local\\Programs\\Python\\Python311\\Lib\\site-packages\\keras\\__init__.py:21\u001b[0m\n\u001b[0;32m     15\u001b[0m \u001b[39m\"\"\"Implementation of the Keras API, the high-level API of TensorFlow.\u001b[39;00m\n\u001b[0;32m     16\u001b[0m \n\u001b[0;32m     17\u001b[0m \u001b[39mDetailed documentation and user guides are available at\u001b[39;00m\n\u001b[0;32m     18\u001b[0m \u001b[39m[keras.io](https://keras.io).\u001b[39;00m\n\u001b[0;32m     19\u001b[0m \u001b[39m\"\"\"\u001b[39;00m\n\u001b[0;32m     20\u001b[0m \u001b[39mfrom\u001b[39;00m \u001b[39mkeras\u001b[39;00m \u001b[39mimport\u001b[39;00m distribute\n\u001b[1;32m---> 21\u001b[0m \u001b[39mfrom\u001b[39;00m \u001b[39mkeras\u001b[39;00m \u001b[39mimport\u001b[39;00m models\n\u001b[0;32m     22\u001b[0m \u001b[39mfrom\u001b[39;00m \u001b[39mkeras\u001b[39;00m\u001b[39m.\u001b[39;00m\u001b[39mengine\u001b[39;00m\u001b[39m.\u001b[39;00m\u001b[39minput_layer\u001b[39;00m \u001b[39mimport\u001b[39;00m Input\n\u001b[0;32m     23\u001b[0m \u001b[39mfrom\u001b[39;00m \u001b[39mkeras\u001b[39;00m\u001b[39m.\u001b[39;00m\u001b[39mengine\u001b[39;00m\u001b[39m.\u001b[39;00m\u001b[39msequential\u001b[39;00m \u001b[39mimport\u001b[39;00m Sequential\n",
      "File \u001b[1;32mc:\\Users\\joelw\\AppData\\Local\\Programs\\Python\\Python311\\Lib\\site-packages\\keras\\models\\__init__.py:18\u001b[0m\n\u001b[0;32m      1\u001b[0m \u001b[39m# Copyright 2022 The TensorFlow Authors. All Rights Reserved.\u001b[39;00m\n\u001b[0;32m      2\u001b[0m \u001b[39m#\u001b[39;00m\n\u001b[0;32m      3\u001b[0m \u001b[39m# Licensed under the Apache License, Version 2.0 (the \"License\");\u001b[39;00m\n\u001b[1;32m   (...)\u001b[0m\n\u001b[0;32m     13\u001b[0m \u001b[39m# limitations under the License.\u001b[39;00m\n\u001b[0;32m     14\u001b[0m \u001b[39m# ==============================================================================\u001b[39;00m\n\u001b[0;32m     15\u001b[0m \u001b[39m\"\"\"Keras models API.\"\"\"\u001b[39;00m\n\u001b[1;32m---> 18\u001b[0m \u001b[39mfrom\u001b[39;00m \u001b[39mkeras\u001b[39;00m\u001b[39m.\u001b[39;00m\u001b[39mengine\u001b[39;00m\u001b[39m.\u001b[39;00m\u001b[39mfunctional\u001b[39;00m \u001b[39mimport\u001b[39;00m Functional\n\u001b[0;32m     19\u001b[0m \u001b[39mfrom\u001b[39;00m \u001b[39mkeras\u001b[39;00m\u001b[39m.\u001b[39;00m\u001b[39mengine\u001b[39;00m\u001b[39m.\u001b[39;00m\u001b[39msequential\u001b[39;00m \u001b[39mimport\u001b[39;00m Sequential\n\u001b[0;32m     20\u001b[0m \u001b[39mfrom\u001b[39;00m \u001b[39mkeras\u001b[39;00m\u001b[39m.\u001b[39;00m\u001b[39mengine\u001b[39;00m\u001b[39m.\u001b[39;00m\u001b[39mtraining\u001b[39;00m \u001b[39mimport\u001b[39;00m Model\n",
      "File \u001b[1;32mc:\\Users\\joelw\\AppData\\Local\\Programs\\Python\\Python311\\Lib\\site-packages\\keras\\engine\\functional.py:24\u001b[0m\n\u001b[0;32m     21\u001b[0m \u001b[39mimport\u001b[39;00m \u001b[39mitertools\u001b[39;00m\n\u001b[0;32m     22\u001b[0m \u001b[39mimport\u001b[39;00m \u001b[39mwarnings\u001b[39;00m\n\u001b[1;32m---> 24\u001b[0m \u001b[39mimport\u001b[39;00m \u001b[39mtensorflow\u001b[39;00m\u001b[39m.\u001b[39;00m\u001b[39mcompat\u001b[39;00m\u001b[39m.\u001b[39;00m\u001b[39mv2\u001b[39;00m \u001b[39mas\u001b[39;00m \u001b[39mtf\u001b[39;00m\n\u001b[0;32m     26\u001b[0m \u001b[39mfrom\u001b[39;00m \u001b[39mkeras\u001b[39;00m \u001b[39mimport\u001b[39;00m backend\n\u001b[0;32m     27\u001b[0m \u001b[39mfrom\u001b[39;00m \u001b[39mkeras\u001b[39;00m\u001b[39m.\u001b[39;00m\u001b[39mdtensor\u001b[39;00m \u001b[39mimport\u001b[39;00m layout_map \u001b[39mas\u001b[39;00m layout_map_lib\n",
      "\u001b[1;31mModuleNotFoundError\u001b[0m: No module named 'tensorflow'"
     ]
    }
   ],
   "source": [
    "\n",
    "\n",
    "\n",
    "#normalize the data for a convolutional neural network\n",
    "\n",
    "from sklearn.preprocessing import MinMaxScaler\n",
    "scaler = MinMaxScaler()\n",
    "df = pd.DataFrame(scaler.fit_transform(df), columns=df.columns)\n",
    "\n",
    "#split the data into train and test sets\n",
    "from sklearn.model_selection import train_test_split\n",
    "X_train, X_test, y_train, y_test = train_test_split(df, df, test_size=0.2, random_state=42)\n",
    "\n",
    "#reshape the data for the neural network\n",
    "X_train = X_train.values.reshape(X_train.shape[0], X_train.shape[1], 1)\n",
    "X_test = X_test.values.reshape(X_test.shape[0], X_test.shape[1], 1)\n",
    "\n",
    "#build the model\n",
    "from keras.models import Sequential\n",
    "from keras.layers import Dense, LSTM, Dropout, Conv1D, MaxPooling1D, Flatten\n",
    "from keras.callbacks import EarlyStopping\n",
    "from keras.optimizers import Adam\n",
    "\n",
    "model = Sequential()\n",
    "model.add(Conv1D(filters=64, kernel_size=2, activation='relu', input_shape=(X_train.shape[1], 1)))\n",
    "model.add(MaxPooling1D(pool_size=2))\n",
    "model.add(Flatten())\n",
    "model.add(Dense(50, activation='relu'))\n",
    "model.add(Dense(1))\n",
    "model.compile(optimizer='adam', loss='mse')\n",
    "\n",
    "#fit the model\n",
    "model.fit(X_train, y_train, epochs=10, batch_size=32, validation_data=(X_test, y_test), verbose=1)\n",
    "\n",
    "#make predictions\n",
    "y_pred = model.predict(X_test)\n",
    "\n",
    "#denormalize the data\n",
    "y_pred = scaler.inverse_transform(y_pred)\n",
    "y_test = scaler.inverse_transform(y_test)\n",
    "\n",
    "#calculate the mean squared error\n",
    "from sklearn.metrics import mean_squared_error\n",
    "mean_squared_error(y_test, y_pred)\n",
    "\n",
    "\n",
    "\n",
    "\n"
   ]
  },
  {
   "cell_type": "code",
   "execution_count": null,
   "metadata": {},
   "outputs": [],
   "source": []
  }
 ],
 "metadata": {
  "kernelspec": {
   "display_name": "Python 3.11.0 64-bit",
   "language": "python",
   "name": "python3"
  },
  "language_info": {
   "codemirror_mode": {
    "name": "ipython",
    "version": 3
   },
   "file_extension": ".py",
   "mimetype": "text/x-python",
   "name": "python",
   "nbconvert_exporter": "python",
   "pygments_lexer": "ipython3",
   "version": "3.11.0"
  },
  "orig_nbformat": 4,
  "vscode": {
   "interpreter": {
    "hash": "d317957aa9b26c8857e36c3f629a131c0165777b9c83b3c3cf3b69ea68fee1b0"
   }
  }
 },
 "nbformat": 4,
 "nbformat_minor": 2
}
