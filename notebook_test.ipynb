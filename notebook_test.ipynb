{
 "cells": [
  {
   "cell_type": "code",
   "execution_count": 2,
   "metadata": {},
   "outputs": [],
   "source": [
    "#create a function to pull in data from dropbox \n",
    "#import all necessary libraries\n",
    "\n",
    "import pandas as pd\n",
    "import numpy as np\n",
    "# from dotenv import load_dotenv\n",
    "# from dotenv import find_dotenv\n",
    "import os\n",
    "from pathlib import Path\n",
    "import requests\n",
    "import pandas as pd\n",
    "# import dropbox\n",
    "# from dropbox.exceptions import AuthError\n",
    "\n"
   ]
  },
  {
   "cell_type": "code",
   "execution_count": 4,
   "metadata": {},
   "outputs": [],
   "source": [
    "#get .env variables\n",
    "\n",
    "load_dotenv()\n",
    "\n",
    "\n",
    "#set up the path to the .env file\n",
    "env_path = Path('.') / '.env'\n",
    "load_dotenv(dotenv_path=env_path)\n",
    "\n",
    "#get api token from .env file\n",
    "link = os.getenv(\"api_box\")\n",
    "key= os.getenv(\"ak\")\n",
    "sec=os.getenv(\"as\")"
   ]
  },
  {
   "cell_type": "code",
   "execution_count": 66,
   "metadata": {},
   "outputs": [],
   "source": [
    "#set up dropbox\n",
    "dbx = dropbox.Dropbox(key)\n",
    "\n",
    "#set up the path to the file in dropbox\n",
    "path = '/test.csv'\n"
   ]
  },
  {
   "cell_type": "code",
   "execution_count": 67,
   "metadata": {},
   "outputs": [],
   "source": [
    "#define a function using oauth2 to authenticate with dropbox\n",
    "def dropbox_list_files(path):\n",
    "    \"\"\"Return a Pandas dataframe of files in a given Dropbox folder path in the Apps directory.\n",
    "    \"\"\"\n",
    "\n",
    "    dbx = dropbox_connect()\n",
    "\n",
    "    try:\n",
    "        files = dbx.files_list_folder(path).entries\n",
    "        files_list = []\n",
    "        for file in files:\n",
    "            if isinstance(file, dropbox.files.FileMetadata):\n",
    "                metadata = {\n",
    "                    'name': file.name,\n",
    "                    'path_display': file.path_display,\n",
    "                    'client_modified': file.client_modified,\n",
    "                    'server_modified': file.server_modified\n",
    "                }\n",
    "                files_list.append(metadata)\n",
    "\n",
    "        df = pd.DataFrame.from_records(files_list)\n",
    "        return df.sort_values(by='server_modified', ascending=False)\n",
    "\n",
    "    except Exception as e:\n",
    "        print('Error getting list of files from Dropbox: ' + str(e))\n",
    "\n"
   ]
  },
  {
   "cell_type": "code",
   "execution_count": 68,
   "metadata": {},
   "outputs": [
    {
     "name": "stderr",
     "output_type": "stream",
     "text": [
      "Unable to refresh access token without                 refresh token and app key\n"
     ]
    },
    {
     "name": "stdout",
     "output_type": "stream",
     "text": [
      "Error getting list of files from Dropbox: AuthError('9666394b88634c53b68381cc3860308b', AuthError('expired_access_token', None))\n"
     ]
    }
   ],
   "source": [
    "dropbox_list_files('/Apps/OBDLink/CsvLogs/WVGEF9BP9GD001746')"
   ]
  },
  {
   "cell_type": "code",
   "execution_count": 34,
   "metadata": {},
   "outputs": [
    {
     "name": "stderr",
     "output_type": "stream",
     "text": [
      "Unable to refresh access token without                 refresh token and app key\n"
     ]
    },
    {
     "ename": "AuthError",
     "evalue": "AuthError('5e16039c8f9f4501925ac7254cc24709', AuthError('expired_access_token', None))",
     "output_type": "error",
     "traceback": [
      "\u001b[1;31m---------------------------------------------------------------------------\u001b[0m",
      "\u001b[1;31mAuthError\u001b[0m                                 Traceback (most recent call last)",
      "Cell \u001b[1;32mIn[34], line 3\u001b[0m\n\u001b[0;32m      1\u001b[0m \u001b[39m#verify dropbox connection works\u001b[39;00m\n\u001b[1;32m----> 3\u001b[0m dbx_link\u001b[39m.\u001b[39;49musers_get_current_account()\n",
      "File \u001b[1;32mc:\\Users\\joelw\\AppData\\Local\\Programs\\Python\\Python311\\Lib\\site-packages\\dropbox\\base.py:5866\u001b[0m, in \u001b[0;36mDropboxBase.users_get_current_account\u001b[1;34m(self)\u001b[0m\n\u001b[0;32m   5857\u001b[0m \u001b[39m\"\"\"\u001b[39;00m\n\u001b[0;32m   5858\u001b[0m \u001b[39mGet information about the current user's account.\u001b[39;00m\n\u001b[0;32m   5859\u001b[0m \n\u001b[1;32m   (...)\u001b[0m\n\u001b[0;32m   5863\u001b[0m \u001b[39m:rtype: :class:`dropbox.users.FullAccount`\u001b[39;00m\n\u001b[0;32m   5864\u001b[0m \u001b[39m\"\"\"\u001b[39;00m\n\u001b[0;32m   5865\u001b[0m arg \u001b[39m=\u001b[39m \u001b[39mNone\u001b[39;00m\n\u001b[1;32m-> 5866\u001b[0m r \u001b[39m=\u001b[39m \u001b[39mself\u001b[39;49m\u001b[39m.\u001b[39;49mrequest(\n\u001b[0;32m   5867\u001b[0m     users\u001b[39m.\u001b[39;49mget_current_account,\n\u001b[0;32m   5868\u001b[0m     \u001b[39m'\u001b[39;49m\u001b[39musers\u001b[39;49m\u001b[39m'\u001b[39;49m,\n\u001b[0;32m   5869\u001b[0m     arg,\n\u001b[0;32m   5870\u001b[0m     \u001b[39mNone\u001b[39;49;00m,\n\u001b[0;32m   5871\u001b[0m )\n\u001b[0;32m   5872\u001b[0m \u001b[39mreturn\u001b[39;00m r\n",
      "File \u001b[1;32mc:\\Users\\joelw\\AppData\\Local\\Programs\\Python\\Python311\\Lib\\site-packages\\dropbox\\dropbox_client.py:326\u001b[0m, in \u001b[0;36m_DropboxTransport.request\u001b[1;34m(self, route, namespace, request_arg, request_binary, timeout)\u001b[0m\n\u001b[0;32m    315\u001b[0m \u001b[39mif\u001b[39;00m (timeout \u001b[39mis\u001b[39;00m \u001b[39mNone\u001b[39;00m \u001b[39mand\u001b[39;00m\n\u001b[0;32m    316\u001b[0m         route \u001b[39m==\u001b[39m files\u001b[39m.\u001b[39mlist_folder_longpoll):\n\u001b[0;32m    317\u001b[0m     \u001b[39m# The client normally sends a timeout value to the\u001b[39;00m\n\u001b[1;32m   (...)\u001b[0m\n\u001b[0;32m    322\u001b[0m     \u001b[39m# due to a shorter socket timeout.\u001b[39;00m\n\u001b[0;32m    323\u001b[0m     \u001b[39m# NB: This is done here because base.py is auto-generated\u001b[39;00m\n\u001b[0;32m    324\u001b[0m     timeout \u001b[39m=\u001b[39m request_arg\u001b[39m.\u001b[39mtimeout \u001b[39m+\u001b[39m \u001b[39m90\u001b[39m\n\u001b[1;32m--> 326\u001b[0m res \u001b[39m=\u001b[39m \u001b[39mself\u001b[39;49m\u001b[39m.\u001b[39;49mrequest_json_string_with_retry(host,\n\u001b[0;32m    327\u001b[0m                                           route_name,\n\u001b[0;32m    328\u001b[0m                                           route_style,\n\u001b[0;32m    329\u001b[0m                                           serialized_arg,\n\u001b[0;32m    330\u001b[0m                                           auth_type,\n\u001b[0;32m    331\u001b[0m                                           request_binary,\n\u001b[0;32m    332\u001b[0m                                           timeout\u001b[39m=\u001b[39;49mtimeout)\n\u001b[0;32m    333\u001b[0m decoded_obj_result \u001b[39m=\u001b[39m json\u001b[39m.\u001b[39mloads(res\u001b[39m.\u001b[39mobj_result)\n\u001b[0;32m    334\u001b[0m \u001b[39mif\u001b[39;00m \u001b[39misinstance\u001b[39m(res, RouteResult):\n",
      "File \u001b[1;32mc:\\Users\\joelw\\AppData\\Local\\Programs\\Python\\Python311\\Lib\\site-packages\\dropbox\\dropbox_client.py:476\u001b[0m, in \u001b[0;36m_DropboxTransport.request_json_string_with_retry\u001b[1;34m(self, host, route_name, route_style, request_json_arg, auth_type, request_binary, timeout)\u001b[0m\n\u001b[0;32m    474\u001b[0m \u001b[39mself\u001b[39m\u001b[39m.\u001b[39m_logger\u001b[39m.\u001b[39minfo(\u001b[39m'\u001b[39m\u001b[39mRequest to \u001b[39m\u001b[39m%s\u001b[39;00m\u001b[39m'\u001b[39m, route_name)\n\u001b[0;32m    475\u001b[0m \u001b[39mtry\u001b[39;00m:\n\u001b[1;32m--> 476\u001b[0m     \u001b[39mreturn\u001b[39;00m \u001b[39mself\u001b[39;49m\u001b[39m.\u001b[39;49mrequest_json_string(host,\n\u001b[0;32m    477\u001b[0m                                     route_name,\n\u001b[0;32m    478\u001b[0m                                     route_style,\n\u001b[0;32m    479\u001b[0m                                     request_json_arg,\n\u001b[0;32m    480\u001b[0m                                     auth_type,\n\u001b[0;32m    481\u001b[0m                                     request_binary,\n\u001b[0;32m    482\u001b[0m                                     timeout\u001b[39m=\u001b[39;49mtimeout)\n\u001b[0;32m    483\u001b[0m \u001b[39mexcept\u001b[39;00m AuthError \u001b[39mas\u001b[39;00m e:\n\u001b[0;32m    484\u001b[0m     \u001b[39mif\u001b[39;00m e\u001b[39m.\u001b[39merror \u001b[39mand\u001b[39;00m e\u001b[39m.\u001b[39merror\u001b[39m.\u001b[39mis_expired_access_token():\n",
      "File \u001b[1;32mc:\\Users\\joelw\\AppData\\Local\\Programs\\Python\\Python311\\Lib\\site-packages\\dropbox\\dropbox_client.py:596\u001b[0m, in \u001b[0;36m_DropboxTransport.request_json_string\u001b[1;34m(self, host, func_name, route_style, request_json_arg, auth_type, request_binary, timeout)\u001b[0m\n\u001b[0;32m    587\u001b[0m     timeout \u001b[39m=\u001b[39m \u001b[39mself\u001b[39m\u001b[39m.\u001b[39m_timeout\n\u001b[0;32m    589\u001b[0m r \u001b[39m=\u001b[39m \u001b[39mself\u001b[39m\u001b[39m.\u001b[39m_session\u001b[39m.\u001b[39mpost(url,\n\u001b[0;32m    590\u001b[0m                        headers\u001b[39m=\u001b[39mheaders,\n\u001b[0;32m    591\u001b[0m                        data\u001b[39m=\u001b[39mbody,\n\u001b[1;32m   (...)\u001b[0m\n\u001b[0;32m    594\u001b[0m                        timeout\u001b[39m=\u001b[39mtimeout,\n\u001b[0;32m    595\u001b[0m                        )\n\u001b[1;32m--> 596\u001b[0m \u001b[39mself\u001b[39;49m\u001b[39m.\u001b[39;49mraise_dropbox_error_for_resp(r)\n\u001b[0;32m    597\u001b[0m request_id \u001b[39m=\u001b[39m r\u001b[39m.\u001b[39mheaders\u001b[39m.\u001b[39mget(\u001b[39m'\u001b[39m\u001b[39mx-dropbox-request-id\u001b[39m\u001b[39m'\u001b[39m)\n\u001b[0;32m    598\u001b[0m \u001b[39mif\u001b[39;00m r\u001b[39m.\u001b[39mstatus_code \u001b[39min\u001b[39;00m (\u001b[39m403\u001b[39m, \u001b[39m404\u001b[39m, \u001b[39m409\u001b[39m):\n",
      "File \u001b[1;32mc:\\Users\\joelw\\AppData\\Local\\Programs\\Python\\Python311\\Lib\\site-packages\\dropbox\\dropbox_client.py:639\u001b[0m, in \u001b[0;36m_DropboxTransport.raise_dropbox_error_for_resp\u001b[1;34m(self, res)\u001b[0m\n\u001b[0;32m    634\u001b[0m     \u001b[39massert\u001b[39;00m res\u001b[39m.\u001b[39mheaders\u001b[39m.\u001b[39mget(\u001b[39m'\u001b[39m\u001b[39mcontent-type\u001b[39m\u001b[39m'\u001b[39m) \u001b[39m==\u001b[39m \u001b[39m'\u001b[39m\u001b[39mapplication/json\u001b[39m\u001b[39m'\u001b[39m, (\n\u001b[0;32m    635\u001b[0m         \u001b[39m'\u001b[39m\u001b[39mExpected content-type to be application/json, got \u001b[39m\u001b[39m%r\u001b[39;00m\u001b[39m'\u001b[39m \u001b[39m%\u001b[39m\n\u001b[0;32m    636\u001b[0m         res\u001b[39m.\u001b[39mheaders\u001b[39m.\u001b[39mget(\u001b[39m'\u001b[39m\u001b[39mcontent-type\u001b[39m\u001b[39m'\u001b[39m))\n\u001b[0;32m    637\u001b[0m     err \u001b[39m=\u001b[39m stone_serializers\u001b[39m.\u001b[39mjson_compat_obj_decode(\n\u001b[0;32m    638\u001b[0m         AuthError_validator, res\u001b[39m.\u001b[39mjson()[\u001b[39m'\u001b[39m\u001b[39merror\u001b[39m\u001b[39m'\u001b[39m])\n\u001b[1;32m--> 639\u001b[0m     \u001b[39mraise\u001b[39;00m AuthError(request_id, err)\n\u001b[0;32m    640\u001b[0m \u001b[39melif\u001b[39;00m res\u001b[39m.\u001b[39mstatus_code \u001b[39m==\u001b[39m HTTP_STATUS_INVALID_PATH_ROOT:\n\u001b[0;32m    641\u001b[0m     err \u001b[39m=\u001b[39m stone_serializers\u001b[39m.\u001b[39mjson_compat_obj_decode(\n\u001b[0;32m    642\u001b[0m         PathRootError_validator, res\u001b[39m.\u001b[39mjson()[\u001b[39m'\u001b[39m\u001b[39merror\u001b[39m\u001b[39m'\u001b[39m])\n",
      "\u001b[1;31mAuthError\u001b[0m: AuthError('5e16039c8f9f4501925ac7254cc24709', AuthError('expired_access_token', None))"
     ]
    }
   ],
   "source": [
    "#verify dropbox connection works\n",
    "\n",
    "dbx_link.users_get_current_account()\n",
    "\n",
    "\n",
    "\n"
   ]
  },
  {
   "cell_type": "code",
   "execution_count": 4,
   "metadata": {},
   "outputs": [],
   "source": [
    "'/Apps/OBDLink/CsvLogs/WVGEF9BP9GD001746'\n"
   ]
  },
  {
   "cell_type": "code",
   "execution_count": 3,
   "metadata": {},
   "outputs": [],
   "source": [
    "#import csv from path\n",
    "#drop first row and column\n",
    "df1 = pd.read_csv('CSVLog_20221130_091051.csv', skiprows=1)\n"
   ]
  },
  {
   "cell_type": "code",
   "execution_count": 4,
   "metadata": {},
   "outputs": [],
   "source": [
    "#drop first column\n",
    "df1_col=df1.iloc[:,1:]\n",
    "df=df1_col"
   ]
  },
  {
   "cell_type": "code",
   "execution_count": 5,
   "metadata": {},
   "outputs": [
    {
     "data": {
      "text/html": [
       "<div>\n",
       "<style scoped>\n",
       "    .dataframe tbody tr th:only-of-type {\n",
       "        vertical-align: middle;\n",
       "    }\n",
       "\n",
       "    .dataframe tbody tr th {\n",
       "        vertical-align: top;\n",
       "    }\n",
       "\n",
       "    .dataframe thead th {\n",
       "        text-align: right;\n",
       "    }\n",
       "</style>\n",
       "<table border=\"1\" class=\"dataframe\">\n",
       "  <thead>\n",
       "    <tr style=\"text-align: right;\">\n",
       "      <th></th>\n",
       "      <th>Latitude (deg)</th>\n",
       "      <th>Longitude (deg)</th>\n",
       "      <th>Vehicle speed (MPH)</th>\n",
       "      <th>Instant fuel economy (MPG)</th>\n",
       "      <th>Total fuel economy (MPG)</th>\n",
       "      <th>Fuel rate (gal/hr)</th>\n",
       "      <th>Instant CO2 rate (lb/mile)</th>\n",
       "      <th>Total CO2 (lbs)</th>\n",
       "      <th>CO2 flow (lb/min)</th>\n",
       "      <th>Accel X (ft/s²)</th>\n",
       "      <th>...</th>\n",
       "      <th>Average Trip CO2 Rate (lb/mile)</th>\n",
       "      <th>Max Speed (MPH)</th>\n",
       "      <th>Seconds Idling (sec)</th>\n",
       "      <th>Idling Count</th>\n",
       "      <th>Hard Accel Count</th>\n",
       "      <th>Hard Brake Count</th>\n",
       "      <th>Trip Duration (min)</th>\n",
       "      <th>Trip Fuel Economy (MPG)</th>\n",
       "      <th>Trip Fuel (gal)</th>\n",
       "      <th>Trip Distance (miles)</th>\n",
       "    </tr>\n",
       "  </thead>\n",
       "  <tbody>\n",
       "    <tr>\n",
       "      <th>0</th>\n",
       "      <td>29.56902</td>\n",
       "      <td>-95.21054</td>\n",
       "      <td>0.0</td>\n",
       "      <td>0.0</td>\n",
       "      <td>0.0</td>\n",
       "      <td>0.0</td>\n",
       "      <td>0.0</td>\n",
       "      <td>0.0</td>\n",
       "      <td>0.0</td>\n",
       "      <td>0.000000</td>\n",
       "      <td>...</td>\n",
       "      <td>0.0</td>\n",
       "      <td>0.0</td>\n",
       "      <td>0.0</td>\n",
       "      <td>0</td>\n",
       "      <td>0</td>\n",
       "      <td>0</td>\n",
       "      <td>0.0</td>\n",
       "      <td>0.0</td>\n",
       "      <td>0.0</td>\n",
       "      <td>0.0</td>\n",
       "    </tr>\n",
       "    <tr>\n",
       "      <th>1</th>\n",
       "      <td>29.56902</td>\n",
       "      <td>-95.21054</td>\n",
       "      <td>0.0</td>\n",
       "      <td>0.0</td>\n",
       "      <td>0.0</td>\n",
       "      <td>0.0</td>\n",
       "      <td>0.0</td>\n",
       "      <td>0.0</td>\n",
       "      <td>0.0</td>\n",
       "      <td>-0.294891</td>\n",
       "      <td>...</td>\n",
       "      <td>0.0</td>\n",
       "      <td>0.0</td>\n",
       "      <td>0.0</td>\n",
       "      <td>0</td>\n",
       "      <td>0</td>\n",
       "      <td>0</td>\n",
       "      <td>0.0</td>\n",
       "      <td>0.0</td>\n",
       "      <td>0.0</td>\n",
       "      <td>0.0</td>\n",
       "    </tr>\n",
       "    <tr>\n",
       "      <th>2</th>\n",
       "      <td>29.56902</td>\n",
       "      <td>-95.21054</td>\n",
       "      <td>0.0</td>\n",
       "      <td>0.0</td>\n",
       "      <td>0.0</td>\n",
       "      <td>0.0</td>\n",
       "      <td>0.0</td>\n",
       "      <td>0.0</td>\n",
       "      <td>0.0</td>\n",
       "      <td>-0.317437</td>\n",
       "      <td>...</td>\n",
       "      <td>0.0</td>\n",
       "      <td>0.0</td>\n",
       "      <td>0.0</td>\n",
       "      <td>0</td>\n",
       "      <td>0</td>\n",
       "      <td>0</td>\n",
       "      <td>0.0</td>\n",
       "      <td>0.0</td>\n",
       "      <td>0.0</td>\n",
       "      <td>0.0</td>\n",
       "    </tr>\n",
       "    <tr>\n",
       "      <th>3</th>\n",
       "      <td>29.56902</td>\n",
       "      <td>-95.21054</td>\n",
       "      <td>0.0</td>\n",
       "      <td>0.0</td>\n",
       "      <td>0.0</td>\n",
       "      <td>0.0</td>\n",
       "      <td>0.0</td>\n",
       "      <td>0.0</td>\n",
       "      <td>0.0</td>\n",
       "      <td>-0.317437</td>\n",
       "      <td>...</td>\n",
       "      <td>0.0</td>\n",
       "      <td>0.0</td>\n",
       "      <td>0.0</td>\n",
       "      <td>0</td>\n",
       "      <td>0</td>\n",
       "      <td>0</td>\n",
       "      <td>0.0</td>\n",
       "      <td>0.0</td>\n",
       "      <td>0.0</td>\n",
       "      <td>0.0</td>\n",
       "    </tr>\n",
       "    <tr>\n",
       "      <th>4</th>\n",
       "      <td>29.56902</td>\n",
       "      <td>-95.21054</td>\n",
       "      <td>0.0</td>\n",
       "      <td>0.0</td>\n",
       "      <td>0.0</td>\n",
       "      <td>0.0</td>\n",
       "      <td>0.0</td>\n",
       "      <td>0.0</td>\n",
       "      <td>0.0</td>\n",
       "      <td>-0.346312</td>\n",
       "      <td>...</td>\n",
       "      <td>0.0</td>\n",
       "      <td>0.0</td>\n",
       "      <td>0.0</td>\n",
       "      <td>0</td>\n",
       "      <td>0</td>\n",
       "      <td>0</td>\n",
       "      <td>0.0</td>\n",
       "      <td>0.0</td>\n",
       "      <td>0.0</td>\n",
       "      <td>0.0</td>\n",
       "    </tr>\n",
       "  </tbody>\n",
       "</table>\n",
       "<p>5 rows × 106 columns</p>\n",
       "</div>"
      ],
      "text/plain": [
       "    Latitude (deg)   Longitude (deg)   Vehicle speed (MPH)  \\\n",
       "0         29.56902         -95.21054                   0.0   \n",
       "1         29.56902         -95.21054                   0.0   \n",
       "2         29.56902         -95.21054                   0.0   \n",
       "3         29.56902         -95.21054                   0.0   \n",
       "4         29.56902         -95.21054                   0.0   \n",
       "\n",
       "    Instant fuel economy (MPG)   Total fuel economy (MPG)  \\\n",
       "0                          0.0                        0.0   \n",
       "1                          0.0                        0.0   \n",
       "2                          0.0                        0.0   \n",
       "3                          0.0                        0.0   \n",
       "4                          0.0                        0.0   \n",
       "\n",
       "    Fuel rate (gal/hr)   Instant CO2 rate (lb/mile)   Total CO2 (lbs)  \\\n",
       "0                  0.0                          0.0               0.0   \n",
       "1                  0.0                          0.0               0.0   \n",
       "2                  0.0                          0.0               0.0   \n",
       "3                  0.0                          0.0               0.0   \n",
       "4                  0.0                          0.0               0.0   \n",
       "\n",
       "    CO2 flow (lb/min)   Accel X (ft/s²)  ...  \\\n",
       "0                 0.0          0.000000  ...   \n",
       "1                 0.0         -0.294891  ...   \n",
       "2                 0.0         -0.317437  ...   \n",
       "3                 0.0         -0.317437  ...   \n",
       "4                 0.0         -0.346312  ...   \n",
       "\n",
       "    Average Trip CO2 Rate (lb/mile)   Max Speed (MPH)   Seconds Idling (sec)  \\\n",
       "0                               0.0               0.0                    0.0   \n",
       "1                               0.0               0.0                    0.0   \n",
       "2                               0.0               0.0                    0.0   \n",
       "3                               0.0               0.0                    0.0   \n",
       "4                               0.0               0.0                    0.0   \n",
       "\n",
       "    Idling Count   Hard Accel Count   Hard Brake Count   Trip Duration (min)  \\\n",
       "0              0                  0                  0                   0.0   \n",
       "1              0                  0                  0                   0.0   \n",
       "2              0                  0                  0                   0.0   \n",
       "3              0                  0                  0                   0.0   \n",
       "4              0                  0                  0                   0.0   \n",
       "\n",
       "    Trip Fuel Economy (MPG)   Trip Fuel (gal)   Trip Distance (miles)  \n",
       "0                       0.0               0.0                     0.0  \n",
       "1                       0.0               0.0                     0.0  \n",
       "2                       0.0               0.0                     0.0  \n",
       "3                       0.0               0.0                     0.0  \n",
       "4                       0.0               0.0                     0.0  \n",
       "\n",
       "[5 rows x 106 columns]"
      ]
     },
     "execution_count": 5,
     "metadata": {},
     "output_type": "execute_result"
    }
   ],
   "source": [
    "df.head()"
   ]
  },
  {
   "cell_type": "code",
   "execution_count": 19,
   "metadata": {},
   "outputs": [],
   "source": [
    "\n",
    "\n",
    "\n",
    "#normalize the data for a convolutional neural network\n",
    "\n",
    "from sklearn.preprocessing import MinMaxScaler\n",
    "scaler = MinMaxScaler()\n",
    "df = pd.DataFrame(scaler.fit_transform(df), columns=df.columns)\n",
    "\n",
    "#split the data into train and test sets\n",
    "from sklearn.model_selection import train_test_split\n",
    "X_train, X_test, y_train, y_test = train_test_split(df, df, test_size=0.2, random_state=42)\n",
    "\n",
    "#reshape the data for the neural network\n",
    "X_train_re = X_train.values.reshape(X_train.shape[0], X_train.shape[1], 1)\n",
    "X_test_re = X_test.values.reshape(X_test.shape[0], X_test.shape[1], 1)\n"
   ]
  },
  {
   "cell_type": "code",
   "execution_count": 20,
   "metadata": {},
   "outputs": [
    {
     "name": "stdout",
     "output_type": "stream",
     "text": [
      "(30023, 106, 1)\n",
      "(7506, 106, 1)\n"
     ]
    }
   ],
   "source": [
    "train_shape=(X_train_re.shape)\n",
    "test_shape=(X_test_re.shape)\n",
    "print(train_shape)\n",
    "print(test_shape)"
   ]
  },
  {
   "cell_type": "code",
   "execution_count": 21,
   "metadata": {},
   "outputs": [
    {
     "name": "stdout",
     "output_type": "stream",
     "text": [
      "Epoch 1/5\n",
      "939/939 [==============================] - 5s 4ms/step - loss: 0.0058 - mse: 0.0058 - mae: 0.0361 - val_loss: 7.0697e-04 - val_mse: 7.0697e-04 - val_mae: 0.0171\n",
      "Epoch 2/5\n",
      "939/939 [==============================] - 4s 4ms/step - loss: 4.5004e-04 - mse: 4.5004e-04 - mae: 0.0136 - val_loss: 3.8041e-04 - val_mse: 3.8041e-04 - val_mae: 0.0127\n",
      "Epoch 3/5\n",
      "939/939 [==============================] - 4s 4ms/step - loss: 2.6377e-04 - mse: 2.6377e-04 - mae: 0.0104 - val_loss: 2.4368e-04 - val_mse: 2.4368e-04 - val_mae: 0.0105\n",
      "Epoch 4/5\n",
      "939/939 [==============================] - 4s 4ms/step - loss: 1.8971e-04 - mse: 1.8971e-04 - mae: 0.0089 - val_loss: 2.0145e-04 - val_mse: 2.0145e-04 - val_mae: 0.0096\n",
      "Epoch 5/5\n",
      "939/939 [==============================] - 4s 4ms/step - loss: 1.4865e-04 - mse: 1.4865e-04 - mae: 0.0079 - val_loss: 1.3074e-04 - val_mse: 1.3074e-04 - val_mae: 0.0075\n",
      "235/235 [==============================] - 1s 2ms/step - loss: 1.3074e-04 - mse: 1.3074e-04 - mae: 0.0075\n",
      "Model: \"sequential_3\"\n",
      "_________________________________________________________________\n",
      " Layer (type)                Output Shape              Param #   \n",
      "=================================================================\n",
      " conv1d_3 (Conv1D)           (None, 106, 12)           48        \n",
      "                                                                 \n",
      " max_pooling1d_3 (MaxPooling  (None, 53, 12)           0         \n",
      " 1D)                                                             \n",
      "                                                                 \n",
      " flatten_3 (Flatten)         (None, 636)               0         \n",
      "                                                                 \n",
      " dense_3 (Dense)             (None, 106)               67522     \n",
      "                                                                 \n",
      "=================================================================\n",
      "Total params: 67,570\n",
      "Trainable params: 67,570\n",
      "Non-trainable params: 0\n",
      "_________________________________________________________________\n"
     ]
    }
   ],
   "source": [
    "\n",
    "#build an autoencoder 2d convolutional model with skip connections for df data\n",
    "from keras.layers import Input, Dense, Conv1D, MaxPooling1D, UpSampling1D, Flatten, Reshape, Conv2D, MaxPooling2D, UpSampling2D\n",
    "from keras.models import Model\n",
    "from keras import regularizers\n",
    "from keras import backend as K\n",
    "from keras.callbacks import TensorBoard\n",
    "import tensorflow as tf\n",
    "from keras import optimizers\n",
    "from keras import backend as K\n",
    "from keras.callbacks import ModelCheckpoint\n",
    "from keras.models import load_model\n",
    "from keras.callbacks import EarlyStopping\n",
    "from keras.callbacks import ReduceLROnPlateau\n",
    "\n",
    "\n",
    "#set up the conv1d model\n",
    "nn_model = tf.keras.models.Sequential()\n",
    "nn_model.build(input_shape=(None, 1, 1))\n",
    "nn_model.add(tf.keras.layers.Conv1D(12,3,activation=\"relu\",padding='same'))\n",
    "nn_model.add(tf.keras.layers.MaxPooling1D(2))\n",
    "nn_model.add(tf.keras.layers.Flatten())\n",
    "nn_model.add(tf.keras.layers.Dense(units=106,activation='linear'))\n",
    "nn_model.compile(loss='mse', optimizer='adam', metrics=['mse', 'mae'])\n",
    "es = tf.keras.callbacks.EarlyStopping(monitor='mae',patience=10)\n",
    "tbCallBack = tf.keras.callbacks.TensorBoard(log_dir='./Graph', histogram_freq=1, write_graph=True, write_images=True)\n",
    "cb_list = [es, tbCallBack]\n",
    "nn_model.fit(X_train_re, X_train_re, epochs=5, shuffle=True, validation_data=(X_test, X_test), callbacks=cb_list)\n",
    "nn_model.evaluate(X_test_re, X_test_re)\n",
    "\n",
    "\n",
    "m=nn_model\n",
    "m.summary()\n",
    "\n",
    "\n",
    "\n",
    "\n",
    "\n",
    "\n",
    "\n"
   ]
  },
  {
   "cell_type": "code",
   "execution_count": 23,
   "metadata": {},
   "outputs": [
    {
     "name": "stdout",
     "output_type": "stream",
     "text": [
      "235/235 [==============================] - 9s 2ms/step\n"
     ]
    },
    {
     "data": {
      "image/png": "[encoded data removed]",
      "text/plain": [
       "<Figure size 640x480 with 1 Axes>"
      ]
     },
     "metadata": {},
     "output_type": "display_data"
    }
   ],
   "source": [
    "#compare the original data to the predicted data with tf.keras.losses.mae\n",
    "import matplotlib.pyplot as plt\n",
    "import numpy as np\n",
    "import pandas as pd\n",
    "from sklearn.metrics import mean_squared_error\n",
    "from sklearn.metrics import mean_absolute_error\n",
    "from sklearn.metrics import r2_score\n",
    "from sklearn.metrics import mean_squared_log_error\n",
    "from sklearn.metrics import median_absolute_error\n",
    "from sklearn.metrics import max_error\n",
    "from sklearn.metrics import explained_variance_score\n",
    "from sklearn.metrics import mean_poisson_deviance\n",
    "\n",
    "#predict the data\n",
    "pred = m.predict(X_test)\n",
    "\n",
    "#calculate the mean absolute error\n",
    "mae = tf.keras.losses.mae(X_test, pred)\n",
    "#plot a historgram of the mae\n",
    "plt.hist(mae, bins=50)\n",
    "plt.xlabel('MAE')\n",
    "plt.ylabel('Count')\n",
    "plt.show()\n",
    "\n",
    "\n"
   ]
  },
  {
   "cell_type": "code",
   "execution_count": null,
   "metadata": {},
   "outputs": [],
   "source": []
  }
 ],
 "metadata": {
  "kernelspec": {
   "display_name": "Python 3.10.8 64-bit",
   "language": "python",
   "name": "python3"
  },
  "language_info": {
   "codemirror_mode": {
    "name": "ipython",
    "version": 3
   },
   "file_extension": ".py",
   "mimetype": "text/x-python",
   "name": "python",
   "nbconvert_exporter": "python",
   "pygments_lexer": "ipython3",
   "version": "3.10.8"
  },
  "orig_nbformat": 4,
  "vscode": {
   "interpreter": {
    "hash": "2efb4f29c12eedaf85d28828f6879938dc4ae7a4d912084843283ea8553259bc"
   }
  }
 },
 "nbformat": 4,
 "nbformat_minor": 2
}
